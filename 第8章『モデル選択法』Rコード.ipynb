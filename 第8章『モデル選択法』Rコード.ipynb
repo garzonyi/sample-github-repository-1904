{
 "cells": [
  {
   "cell_type": "markdown",
   "metadata": {
    "toc": true
   },
   "source": [
    "<h1>Table of Contents<span class=\"tocSkip\"></span></h1>\n",
    "<div class=\"toc\"><ul class=\"toc-item\"><li><span><a href=\"#第8章『モデル選択法』\" data-toc-modified-id=\"第8章『モデル選択法』-1\">第8章『モデル選択法』</a></span><ul class=\"toc-item\"><li><span><a href=\"#p.6~8\" data-toc-modified-id=\"p.6~8-1.1\">p.6~8</a></span></li></ul></li></ul></div>"
   ]
  },
  {
   "cell_type": "markdown",
   "metadata": {},
   "source": [
    "# 第8章『モデル選択法』"
   ]
  },
  {
   "cell_type": "markdown",
   "metadata": {},
   "source": [
    "## p.6~8"
   ]
  },
  {
   "cell_type": "code",
   "execution_count": 1,
   "metadata": {
    "ExecuteTime": {
     "end_time": "2019-04-08T09:46:20.889620Z",
     "start_time": "2019-04-08T09:46:20.697Z"
    }
   },
   "outputs": [
    {
     "data": {
      "text/plain": [
       "\n",
       "Call:\n",
       "lm(formula = y ~ 1 + x1 + x2 + x3 + x4, data = dat)\n",
       "\n",
       "Residuals:\n",
       "    Min      1Q  Median      3Q     Max \n",
       "-2.9889 -1.6838  0.0402  1.0314  3.5183 \n",
       "\n",
       "Coefficients:\n",
       "            Estimate Std. Error t value Pr(>|t|)  \n",
       "(Intercept)  81.1499    36.1048   2.248   0.0548 .\n",
       "x1            1.3696     0.4109   3.333   0.0103 *\n",
       "x2            0.3232     0.3661   0.883   0.4030  \n",
       "x3           -0.1071     0.4312  -0.248   0.8101  \n",
       "x4           -0.3340     0.3637  -0.918   0.3853  \n",
       "---\n",
       "Signif. codes:  0 ‘***’ 0.001 ‘**’ 0.01 ‘*’ 0.05 ‘.’ 0.1 ‘ ’ 1\n",
       "\n",
       "Residual standard error: 2.332 on 8 degrees of freedom\n",
       "Multiple R-squared:  0.984,\tAdjusted R-squared:  0.976 \n",
       "F-statistic: 122.8 on 4 and 8 DF,  p-value: 3.256e-07\n"
      ]
     },
     "metadata": {},
     "output_type": "display_data"
    },
    {
     "data": {
      "text/html": [
       "64.6007900200976"
      ],
      "text/latex": [
       "64.6007900200976"
      ],
      "text/markdown": [
       "64.6007900200976"
      ],
      "text/plain": [
       "[1] 64.60079"
      ]
     },
     "metadata": {},
     "output_type": "display_data"
    }
   ],
   "source": [
    "#data <- read.csv(\"dataHald.csv\", header=T) <-- 手打ちでdataframeを作成の場合は以下\n",
    "x1 <- c(7, 1, 11, 11, 7, 11, 3, 1, 2, 21, 1, 11, 10)\n",
    "x2 <- c(26, 29, 56, 31, 52, 55, 71, 31, 54, 47, 40, 66, 68)\n",
    "x3 <- c(6 ,15, 8, 8, 6, 9, 17, 22, 18, 4, 23, 9, 8)\n",
    "x4 <- c(60, 52, 29, 47, 33, 22, 6, 44, 22, 26, 34, 12, 12)\n",
    "y <- c(78.5, 74.3, 104.3, 87.6, 95.9, 109.2, 102.7, 72.5, 93.1, 115.9, 83.8, 113.3, 109.4)\n",
    "dat <- data.frame(x1, x2, x3, x4, y)\n",
    "\n",
    "result <- lm(y ~ 1 + x1 + x2 + x3 + x4, data=dat)\n",
    "summary(result)\n",
    "AIC(result)"
   ]
  }
 ],
 "metadata": {
  "hide_input": false,
  "kernelspec": {
   "display_name": "R",
   "language": "R",
   "name": "ir"
  },
  "language_info": {
   "codemirror_mode": "r",
   "file_extension": ".r",
   "mimetype": "text/x-r-source",
   "name": "R",
   "pygments_lexer": "r",
   "version": "3.5.1"
  },
  "toc": {
   "base_numbering": 1,
   "nav_menu": {},
   "number_sections": false,
   "sideBar": true,
   "skip_h1_title": false,
   "title_cell": "Table of Contents",
   "title_sidebar": "Contents",
   "toc_cell": true,
   "toc_position": {
    "height": "calc(100% - 180px)",
    "left": "10px",
    "top": "150px",
    "width": "247.11956787109375px"
   },
   "toc_section_display": true,
   "toc_window_display": true
  }
 },
 "nbformat": 4,
 "nbformat_minor": 2
}
