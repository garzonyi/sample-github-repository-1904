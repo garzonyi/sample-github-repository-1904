{
 "cells": [
  {
   "cell_type": "markdown",
   "metadata": {
    "toc": true
   },
   "source": [
    "<h1>Table of Contents<span class=\"tocSkip\"></span></h1>\n",
    "<div class=\"toc\"><ul class=\"toc-item\"><li><span><a href=\"#第10章『多重比較法』\" data-toc-modified-id=\"第10章『多重比較法』-1\">第10章『多重比較法』</a></span><ul class=\"toc-item\"><li><span><a href=\"#p.7\" data-toc-modified-id=\"p.7-1.1\">p.7</a></span></li><li><span><a href=\"#p.16~17\" data-toc-modified-id=\"p.16~17-1.2\">p.16~17</a></span></li></ul></li></ul></div>"
   ]
  },
  {
   "cell_type": "markdown",
   "metadata": {},
   "source": [
    "# 第10章『多重比較法』"
   ]
  },
  {
   "cell_type": "markdown",
   "metadata": {},
   "source": [
    "## p.7"
   ]
  },
  {
   "cell_type": "code",
   "execution_count": 2,
   "metadata": {
    "ExecuteTime": {
     "end_time": "2019-04-14T17:24:41.069488Z",
     "start_time": "2019-04-14T17:24:41.057516Z"
    }
   },
   "outputs": [
    {
     "name": "stderr",
     "output_type": "stream",
     "text": [
      "/Users/yosukeitani/anaconda3/lib/python3.6/site-packages/statsmodels/stats/multitest.py:144: RuntimeWarning: invalid value encountered in power\n",
      "  alphacSidak = 1 - np.power((1. - alphaf), 1./ntests)\n",
      "/Users/yosukeitani/anaconda3/lib/python3.6/site-packages/statsmodels/stats/multitest.py:156: RuntimeWarning: invalid value encountered in power\n",
      "  1./np.arange(ntests, 0, -1))\n",
      "/Users/yosukeitani/anaconda3/lib/python3.6/site-packages/statsmodels/stats/multitest.py:157: RuntimeWarning: invalid value encountered in greater\n",
      "  notreject = pvals > alphacSidak_all\n"
     ]
    },
    {
     "data": {
      "text/plain": [
       "(array([ True,  True,  True,  True,  True,  True,  True,  True,  True,\n",
       "         True]),\n",
       " array([ 1.00000000e+00,  1.00000000e+00,  1.00000000e+00,  1.00000000e+00,\n",
       "         1.00000000e+00,  1.00000000e+00, -2.75854735e+15,  1.00000000e+00,\n",
       "         1.00000000e+00,  1.00000000e+00]),\n",
       " array([nan, nan, nan, nan, nan, nan, nan, nan, nan, nan]),\n",
       " array([ 6.7,  9.3,  7.2,  5.5, 10.9,  8.6,  5. ,  8. ,  9.5, 10.3]))"
      ]
     },
     "execution_count": 2,
     "metadata": {},
     "output_type": "execute_result"
    }
   ],
   "source": [
    "import numpy as np\n",
    "from statsmodels.stats.multitest import multipletests\n",
    "\n",
    "### Pythonではどのように？おそらくメソッドがないのでは？\n",
    "# https://github.com/statsmodels/statsmodels/wiki/SMEP:-Multi-Comparisons\n",
    "### Tukey法のようなものはある\n",
    "# http://lang.sist.chukyo-u.ac.jp/classes/PythonProbStat/Python-statistics6.html\n",
    "\n",
    "# サンプルにこのデータを与える\n",
    "data1 = np.array([59, 91, 64, 53, 75, 69, 36, 43, 54, 99])\n",
    "data2 = np.array([67, 93, 72, 55, 109, 86, 50, 80, 95, 103])\n",
    "multipletests(data1, data2)"
   ]
  },
  {
   "cell_type": "markdown",
   "metadata": {},
   "source": [
    "## p.16~17"
   ]
  },
  {
   "cell_type": "code",
   "execution_count": 3,
   "metadata": {
    "ExecuteTime": {
     "end_time": "2019-04-14T17:24:58.855597Z",
     "start_time": "2019-04-14T17:24:58.560920Z"
    }
   },
   "outputs": [
    {
     "data": {
      "text/html": [
       "<div>\n",
       "<style scoped>\n",
       "    .dataframe tbody tr th:only-of-type {\n",
       "        vertical-align: middle;\n",
       "    }\n",
       "\n",
       "    .dataframe tbody tr th {\n",
       "        vertical-align: top;\n",
       "    }\n",
       "\n",
       "    .dataframe thead th {\n",
       "        text-align: right;\n",
       "    }\n",
       "</style>\n",
       "<table border=\"1\" class=\"dataframe\">\n",
       "  <thead>\n",
       "    <tr style=\"text-align: right;\">\n",
       "      <th></th>\n",
       "      <th>mean</th>\n",
       "      <th>mean_se</th>\n",
       "      <th>mean_ci_lower</th>\n",
       "      <th>mean_ci_upper</th>\n",
       "      <th>obs_ci_lower</th>\n",
       "      <th>obs_ci_upper</th>\n",
       "    </tr>\n",
       "  </thead>\n",
       "  <tbody>\n",
       "    <tr>\n",
       "      <th>0</th>\n",
       "      <td>1.8696</td>\n",
       "      <td>0.038355</td>\n",
       "      <td>1.747537</td>\n",
       "      <td>1.991663</td>\n",
       "      <td>1.670271</td>\n",
       "      <td>2.068929</td>\n",
       "    </tr>\n",
       "  </tbody>\n",
       "</table>\n",
       "</div>"
      ],
      "text/plain": [
       "     mean   mean_se  mean_ci_lower  mean_ci_upper  obs_ci_lower  obs_ci_upper\n",
       "0  1.8696  0.038355       1.747537       1.991663      1.670271      2.068929"
      ]
     },
     "execution_count": 3,
     "metadata": {},
     "output_type": "execute_result"
    }
   ],
   "source": [
    "import numpy as np\n",
    "import pandas as pd\n",
    "import statsmodels.formula.api as sm\n",
    "\n",
    "# https://www.statsmodels.org/dev/generated/statsmodels.regression.linear_model.OLSResults.get_prediction.html\n",
    "\n",
    "time = [2, 4, 6, 8, 10]\n",
    "y = [1.922, 1.443, 1.065, 0.703, 0.369]\n",
    "data = pd.DataFrame({\"time\": time, \"y\": y})\n",
    "\n",
    "result = sm.ols(formula='y ~ time', data=data)\n",
    "result_fitted = result.fit()\n",
    "\n",
    "prediction = result_fitted.get_prediction(pd.DataFrame({\"time\": [2]})) # timeの値が2の場合\n",
    "prediction.summary_frame()"
   ]
  },
  {
   "cell_type": "code",
   "execution_count": null,
   "metadata": {},
   "outputs": [],
   "source": []
  }
 ],
 "metadata": {
  "hide_input": false,
  "kernelspec": {
   "display_name": "Python 3",
   "language": "python",
   "name": "python3"
  },
  "language_info": {
   "codemirror_mode": {
    "name": "ipython",
    "version": 3
   },
   "file_extension": ".py",
   "mimetype": "text/x-python",
   "name": "python",
   "nbconvert_exporter": "python",
   "pygments_lexer": "ipython3",
   "version": "3.6.6"
  },
  "toc": {
   "base_numbering": 1,
   "nav_menu": {},
   "number_sections": false,
   "sideBar": true,
   "skip_h1_title": false,
   "title_cell": "Table of Contents",
   "title_sidebar": "Contents",
   "toc_cell": true,
   "toc_position": {},
   "toc_section_display": true,
   "toc_window_display": true
  }
 },
 "nbformat": 4,
 "nbformat_minor": 2
}
