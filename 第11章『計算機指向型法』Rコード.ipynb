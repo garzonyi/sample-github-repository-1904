{
 "cells": [
  {
   "cell_type": "markdown",
   "metadata": {
    "toc": true
   },
   "source": [
    "<h1>Table of Contents<span class=\"tocSkip\"></span></h1>\n",
    "<div class=\"toc\"><ul class=\"toc-item\"><li><span><a href=\"#第11章『計算機指向型法』\" data-toc-modified-id=\"第11章『計算機指向型法』-1\">第11章『計算機指向型法』</a></span><ul class=\"toc-item\"><li><span><a href=\"#p.2\" data-toc-modified-id=\"p.2-1.1\">p.2</a></span></li><li><span><a href=\"#p.9\" data-toc-modified-id=\"p.9-1.2\">p.9</a></span></li><li><span><a href=\"#p.10~11\" data-toc-modified-id=\"p.10~11-1.3\">p.10~11</a></span></li><li><span><a href=\"#p.18~19\" data-toc-modified-id=\"p.18~19-1.4\">p.18~19</a></span></li><li><span><a href=\"#p.22~23\" data-toc-modified-id=\"p.22~23-1.5\">p.22~23</a></span></li></ul></li></ul></div>"
   ]
  },
  {
   "cell_type": "markdown",
   "metadata": {},
   "source": [
    "# 第11章『計算機指向型法』"
   ]
  },
  {
   "cell_type": "markdown",
   "metadata": {},
   "source": [
    "## p.2"
   ]
  },
  {
   "cell_type": "code",
   "execution_count": 1,
   "metadata": {
    "ExecuteTime": {
     "end_time": "2019-04-08T09:52:42.228630Z",
     "start_time": "2019-04-08T09:52:42.067Z"
    }
   },
   "outputs": [
    {
     "data": {
      "text/html": [
       "2.01061929829747"
      ],
      "text/latex": [
       "2.01061929829747"
      ],
      "text/markdown": [
       "2.01061929829747"
      ],
      "text/plain": [
       "[1] 2.010619"
      ]
     },
     "metadata": {},
     "output_type": "display_data"
    }
   ],
   "source": [
    "n <- 100\n",
    "k <- 0\n",
    "\n",
    "for (i in 1:n){\n",
    "    temp <- c(runif(1, 0, pi), runif(1, 0, 1))\n",
    "    if(temp[2] <= sin(temp[1])) k <- k+1\n",
    "}\n",
    "k/n*pi"
   ]
  },
  {
   "cell_type": "markdown",
   "metadata": {},
   "source": [
    "## p.9"
   ]
  },
  {
   "cell_type": "code",
   "execution_count": 2,
   "metadata": {
    "ExecuteTime": {
     "end_time": "2019-04-08T09:52:54.282053Z",
     "start_time": "2019-04-08T09:52:53.947Z"
    }
   },
   "outputs": [
    {
     "data": {
      "text/html": [
       "93.8780869170581"
      ],
      "text/latex": [
       "93.8780869170581"
      ],
      "text/markdown": [
       "93.8780869170581"
      ],
      "text/plain": [
       "[1] 93.87809"
      ]
     },
     "metadata": {},
     "output_type": "display_data"
    },
    {
     "data": {
      "text/html": [
       "106.354511271521"
      ],
      "text/latex": [
       "106.354511271521"
      ],
      "text/markdown": [
       "106.354511271521"
      ],
      "text/plain": [
       "[1] 106.3545"
      ]
     },
     "metadata": {},
     "output_type": "display_data"
    }
   ],
   "source": [
    "data <- c(93.83, 103.96, 102.87, 100.23, 105.68,\n",
    "          101.32, 97.95, 89.72, 101.00, 95.57,\n",
    "          96.43, 105.93, 94.88, 101.29, 102.75,\n",
    "          98.06, 97.62, 98.60, 102.79, 102.64,\n",
    "          102.57, 97.93, 100.58, 103.77, 95.74)\n",
    "\n",
    "n <- length(data) \n",
    "B<-3000\n",
    "alpha <- 0.05\n",
    "m <- (alpha / 2) * B\n",
    "xbar <- mean(data)\n",
    "s.mle <- (n - 1) / n * var(data)\n",
    "temp <- numeric(B)\n",
    "for(i in 1:B){\n",
    "    redata <- sample(data, n, replace = TRUE)\n",
    "    temp[i] <- sqrt(n / (n - 1)) * t.test(redata, mu = xbar)$statistic\n",
    "}\n",
    "\n",
    "temp.s <- sort(temp)\n",
    "xbar + s.mle / sqrt(n) * temp.s[floor(m)]\n",
    "xbar + s.mle / sqrt(n) * temp.s[floor(B + 1 - m)]"
   ]
  },
  {
   "cell_type": "markdown",
   "metadata": {},
   "source": [
    "## p.10~11"
   ]
  },
  {
   "cell_type": "code",
   "execution_count": 3,
   "metadata": {
    "ExecuteTime": {
     "end_time": "2019-04-08T09:53:08.222569Z",
     "start_time": "2019-04-08T09:53:07.970Z"
    }
   },
   "outputs": [
    {
     "data": {
      "text/html": [
       "0.00266666666666667"
      ],
      "text/latex": [
       "0.00266666666666667"
      ],
      "text/markdown": [
       "0.00266666666666667"
      ],
      "text/plain": [
       "[1] 0.002666667"
      ]
     },
     "metadata": {},
     "output_type": "display_data"
    }
   ],
   "source": [
    "data <- c(93.83, 103.96, 102.87, 100.23, 105.68,\n",
    "          101.32, 97.95, 89.72, 101.00, 95.57,\n",
    "          96.43, 105.93, 94.88, 101.29, 102.75, \n",
    "          98.06,97.62,98.60,102.79,102.64,\n",
    "          102.57, 97.93, 100.58, 103.77, 95.74) \n",
    "n<-length(data)\n",
    "B <- 3000\n",
    "mu.0 <- 97\n",
    "T <- sqrt(n / (n - 1)) * t.test(data, mu = mu.0)$statistic\n",
    "temp <- numeric(B) \n",
    "for(i in 1:B){\n",
    "    redata1 <- sample(data, n, replace = TRUE)\n",
    "    redata2 <- redata1 - mean(data) + mu.0\n",
    "    temp[i] <- sqrt(n / (n - 1)) * t.test(redata2, mu = mu.0)$statistic\n",
    "}\n",
    "length(temp[temp>T])/B"
   ]
  },
  {
   "cell_type": "markdown",
   "metadata": {},
   "source": [
    "## p.18~19"
   ]
  },
  {
   "cell_type": "code",
   "execution_count": 4,
   "metadata": {
    "ExecuteTime": {
     "end_time": "2019-04-08T09:53:22.931524Z",
     "start_time": "2019-04-08T09:53:22.439Z"
    }
   },
   "outputs": [
    {
     "data": {
      "text/html": [
       "30.5186532227999"
      ],
      "text/latex": [
       "30.5186532227999"
      ],
      "text/markdown": [
       "30.5186532227999"
      ],
      "text/plain": [
       "[1] 30.51865"
      ]
     },
     "metadata": {},
     "output_type": "display_data"
    },
    {
     "data": {
      "text/html": [
       "1.22009434937261"
      ],
      "text/latex": [
       "1.22009434937261"
      ],
      "text/markdown": [
       "1.22009434937261"
      ],
      "text/plain": [
       "[1] 1.220094"
      ]
     },
     "metadata": {},
     "output_type": "display_data"
    },
    {
     "data": {
      "text/html": [
       "30.5147335450982"
      ],
      "text/latex": [
       "30.5147335450982"
      ],
      "text/markdown": [
       "30.5147335450982"
      ],
      "text/plain": [
       "[1] 30.51473"
      ]
     },
     "metadata": {},
     "output_type": "display_data"
    },
    {
     "data": {
      "text/html": [
       "<dl class=dl-horizontal>\n",
       "\t<dt>2.5%</dt>\n",
       "\t\t<dd>28.312488473135</dd>\n",
       "\t<dt>97.5%</dt>\n",
       "\t\t<dd>32.7466730551393</dd>\n",
       "</dl>\n"
      ],
      "text/latex": [
       "\\begin{description*}\n",
       "\\item[2.5\\textbackslash{}\\%] 28.312488473135\n",
       "\\item[97.5\\textbackslash{}\\%] 32.7466730551393\n",
       "\\end{description*}\n"
      ],
      "text/markdown": [
       "2.5%\n",
       ":   28.31248847313597.5%\n",
       ":   32.7466730551393\n",
       "\n"
      ],
      "text/plain": [
       "    2.5%    97.5% \n",
       "28.31249 32.74667 "
      ]
     },
     "metadata": {},
     "output_type": "display_data"
    }
   ],
   "source": [
    "dat<-c(27,41,34,29,35,30,29,30,27,\n",
    "       33, 23, 32, 30, 36, 32, 29, 20, 33, 30, 31)\n",
    "\n",
    "n <- length(dat)\n",
    "xbar<-mean(dat)\n",
    "\n",
    "result <- NULL\n",
    "premu <- 0\n",
    "dd2 <- 3^2 \n",
    "sig2<-5^2\n",
    "B <- 1000\n",
    "T <- 10^4 + B\n",
    "\n",
    "for(ii in 1:T){\n",
    "    newmu <- rnorm(1, mean=premu, sd=sqrt(dd2))\n",
    "    r <- exp( -n*( (newmu - xbar)^2 - (premu - xbar)^2 )/(2*sig2) ) \n",
    "    tempr<-runif(1)\n",
    "    if(r > runif(1)) premu <- newmu\n",
    "    result <- c(result, premu)\n",
    "}\n",
    "\n",
    "mean(result[-(1:B)])\n",
    "(T - B - 1) / (T - B) * var(result[-(1:B)]) \n",
    "median(result[-(1:B)])\n",
    "quantile(result[-(1:B)], c(0.025,0.975))"
   ]
  },
  {
   "cell_type": "markdown",
   "metadata": {},
   "source": [
    "## p.22~23"
   ]
  },
  {
   "cell_type": "code",
   "execution_count": 5,
   "metadata": {
    "ExecuteTime": {
     "end_time": "2019-04-08T09:53:40.197483Z",
     "start_time": "2019-04-08T09:53:38.495Z"
    }
   },
   "outputs": [
    {
     "name": "stderr",
     "output_type": "stream",
     "text": [
      "Loading required package: coda\n",
      "Loading required package: MASS\n",
      "##\n",
      "## Markov Chain Monte Carlo Package (MCMCpack)\n",
      "## Copyright (C) 2003-2019 Andrew D. Martin, Kevin M. Quinn, and Jong Hee Park\n",
      "##\n",
      "## Support provided by the U.S. National Science Foundation\n",
      "## (Grants SES-0350646 and SES-0350613)\n",
      "##\n"
     ]
    },
    {
     "data": {
      "text/html": [
       "20.6893044411571"
      ],
      "text/latex": [
       "20.6893044411571"
      ],
      "text/markdown": [
       "20.6893044411571"
      ],
      "text/plain": [
       "[1] 20.6893"
      ]
     },
     "metadata": {},
     "output_type": "display_data"
    },
    {
     "data": {
      "text/html": [
       "18.3096731580899"
      ],
      "text/latex": [
       "18.3096731580899"
      ],
      "text/markdown": [
       "18.3096731580899"
      ],
      "text/plain": [
       "[1] 18.30967"
      ]
     },
     "metadata": {},
     "output_type": "display_data"
    },
    {
     "data": {
      "text/html": [
       "0.923241628884149"
      ],
      "text/latex": [
       "0.923241628884149"
      ],
      "text/markdown": [
       "0.923241628884149"
      ],
      "text/plain": [
       "[1] 0.9232416"
      ]
     },
     "metadata": {},
     "output_type": "display_data"
    },
    {
     "data": {
      "text/html": [
       "52.568089492405"
      ],
      "text/latex": [
       "52.568089492405"
      ],
      "text/markdown": [
       "52.568089492405"
      ],
      "text/plain": [
       "[1] 52.56809"
      ]
     },
     "metadata": {},
     "output_type": "display_data"
    },
    {
     "data": {
      "text/html": [
       "20.6931381754191"
      ],
      "text/latex": [
       "20.6931381754191"
      ],
      "text/markdown": [
       "20.6931381754191"
      ],
      "text/plain": [
       "[1] 20.69314"
      ]
     },
     "metadata": {},
     "output_type": "display_data"
    },
    {
     "data": {
      "text/html": [
       "16.837689795341"
      ],
      "text/latex": [
       "16.837689795341"
      ],
      "text/markdown": [
       "16.837689795341"
      ],
      "text/plain": [
       "[1] 16.83769"
      ]
     },
     "metadata": {},
     "output_type": "display_data"
    },
    {
     "data": {
      "text/html": [
       "<dl class=dl-horizontal>\n",
       "\t<dt>2.5%</dt>\n",
       "\t\t<dd>18.8111982791423</dd>\n",
       "\t<dt>97.5%</dt>\n",
       "\t\t<dd>22.5839934417721</dd>\n",
       "</dl>\n"
      ],
      "text/latex": [
       "\\begin{description*}\n",
       "\\item[2.5\\textbackslash{}\\%] 18.8111982791423\n",
       "\\item[97.5\\textbackslash{}\\%] 22.5839934417721\n",
       "\\end{description*}\n"
      ],
      "text/markdown": [
       "2.5%\n",
       ":   18.811198279142397.5%\n",
       ":   22.5839934417721\n",
       "\n"
      ],
      "text/plain": [
       "    2.5%    97.5% \n",
       "18.81120 22.58399 "
      ]
     },
     "metadata": {},
     "output_type": "display_data"
    },
    {
     "data": {
      "text/html": [
       "<dl class=dl-horizontal>\n",
       "\t<dt>2.5%</dt>\n",
       "\t\t<dd>9.00026338843382</dd>\n",
       "\t<dt>97.5%</dt>\n",
       "\t\t<dd>36.6848394323362</dd>\n",
       "</dl>\n"
      ],
      "text/latex": [
       "\\begin{description*}\n",
       "\\item[2.5\\textbackslash{}\\%] 9.00026338843382\n",
       "\\item[97.5\\textbackslash{}\\%] 36.6848394323362\n",
       "\\end{description*}\n"
      ],
      "text/markdown": [
       "2.5%\n",
       ":   9.0002633884338297.5%\n",
       ":   36.6848394323362\n",
       "\n"
      ],
      "text/plain": [
       "     2.5%     97.5% \n",
       " 9.000263 36.684839 "
      ]
     },
     "metadata": {},
     "output_type": "display_data"
    },
    {
     "data": {
      "text/html": [
       "0.2331"
      ],
      "text/latex": [
       "0.2331"
      ],
      "text/markdown": [
       "0.2331"
      ],
      "text/plain": [
       "[1] 0.2331"
      ]
     },
     "metadata": {},
     "output_type": "display_data"
    }
   ],
   "source": [
    "# install.packages(\"MCMCpack\", dependencies=T)\n",
    "library(MCMCpack)\n",
    "\n",
    "dat<-c(21,18,21,16,23,16,20,22,28,19,19,23,18, 18, 26, 28, 19, 14, 22, 23)\n",
    "\n",
    "n <- length(dat)\n",
    "xbar <- mean(dat)\n",
    "s2 <- (n-1)/n*var(dat)\n",
    "\n",
    "result <- NULL\n",
    "presig2 <- 10^2\n",
    "B <- 1000\n",
    "T <- 10^4 + B \n",
    "for(ii in 1:T){\n",
    "    premu <- rnorm(1, mean = xbar, sd = sqrt(presig2 / n))\n",
    "    presig2 <- rinvgamma(1, shape = n / 2 - 1, scale = (n * s2 + n * (premu - xbar)^2) / 2) \n",
    "    result<-rbind(result,c(premu,presig2))\n",
    "}\n",
    "\n",
    "mean(result[-(1:B),1])\n",
    "mean(result[-(1:B),2])\n",
    "(T-B-1)/(T-B)*var(result[-(1:B),1]) \n",
    "(T-B-1)/(T-B)*var(result[-(1:B),2])\n",
    "median(result[-(1:B),1])\n",
    "median(result[-(1:B),2])\n",
    "quantile(result[-(1:B),1], c(0.025,0.975))\n",
    "quantile(result[-(1:B),2], c(0.025,0.975))\n",
    "sum(result[-(1:B),1]<20)/(T-B)"
   ]
  }
 ],
 "metadata": {
  "hide_input": false,
  "kernelspec": {
   "display_name": "R",
   "language": "R",
   "name": "ir"
  },
  "language_info": {
   "codemirror_mode": "r",
   "file_extension": ".r",
   "mimetype": "text/x-r-source",
   "name": "R",
   "pygments_lexer": "r",
   "version": "3.5.1"
  },
  "toc": {
   "base_numbering": 1,
   "nav_menu": {},
   "number_sections": false,
   "sideBar": true,
   "skip_h1_title": false,
   "title_cell": "Table of Contents",
   "title_sidebar": "Contents",
   "toc_cell": true,
   "toc_position": {},
   "toc_section_display": true,
   "toc_window_display": true
  }
 },
 "nbformat": 4,
 "nbformat_minor": 2
}
