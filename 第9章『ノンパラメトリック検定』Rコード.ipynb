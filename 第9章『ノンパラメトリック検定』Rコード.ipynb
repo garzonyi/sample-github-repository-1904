{
 "cells": [
  {
   "cell_type": "markdown",
   "metadata": {
    "toc": true
   },
   "source": [
    "<h1>Table of Contents<span class=\"tocSkip\"></span></h1>\n",
    "<div class=\"toc\"><ul class=\"toc-item\"><li><span><a href=\"#第9章『ノンパラメトリック検定』\" data-toc-modified-id=\"第9章『ノンパラメトリック検定』-1\">第9章『ノンパラメトリック検定』</a></span><ul class=\"toc-item\"><li><span><a href=\"#p.10\" data-toc-modified-id=\"p.10-1.1\">p.10</a></span></li><li><span><a href=\"#p.11\" data-toc-modified-id=\"p.11-1.2\">p.11</a></span></li><li><span><a href=\"#p.17\" data-toc-modified-id=\"p.17-1.3\">p.17</a></span></li><li><span><a href=\"#p.26\" data-toc-modified-id=\"p.26-1.4\">p.26</a></span></li><li><span><a href=\"#p.30\" data-toc-modified-id=\"p.30-1.5\">p.30</a></span></li><li><span><a href=\"#p.33~34\" data-toc-modified-id=\"p.33~34-1.6\">p.33~34</a></span></li></ul></li></ul></div>"
   ]
  },
  {
   "cell_type": "markdown",
   "metadata": {},
   "source": [
    "# 第9章『ノンパラメトリック検定』"
   ]
  },
  {
   "cell_type": "markdown",
   "metadata": {},
   "source": [
    "## p.10"
   ]
  },
  {
   "cell_type": "code",
   "execution_count": 1,
   "metadata": {
    "ExecuteTime": {
     "end_time": "2019-04-08T09:48:18.018528Z",
     "start_time": "2019-04-08T09:48:17.816Z"
    }
   },
   "outputs": [
    {
     "data": {
      "text/plain": [
       "\n",
       "\tWilcoxon rank sum test\n",
       "\n",
       "data:  data1 and data2\n",
       "W = 27, p-value = 0.08921\n",
       "alternative hypothesis: true location shift is not equal to 0\n",
       "95 percent confidence interval:\n",
       " -39   4\n",
       "sample estimates:\n",
       "difference in location \n",
       "                   -18 \n"
      ]
     },
     "metadata": {},
     "output_type": "display_data"
    }
   ],
   "source": [
    "data1 <- c(59, 91, 64, 53, 75, 69, 36, 43, 54, 99)\n",
    "data2 <- c(67, 93, 72, 55, 109, 86, 50, 80, 95, 103)\n",
    "wilcox.test(data1, data2, paired=FALSE, alternative=c(\"two.sided\"), conf.int=TRUE, conf.level=0.95, correct=FALSE)"
   ]
  },
  {
   "cell_type": "markdown",
   "metadata": {},
   "source": [
    "## p.11"
   ]
  },
  {
   "cell_type": "code",
   "execution_count": 2,
   "metadata": {
    "ExecuteTime": {
     "end_time": "2019-04-08T09:48:42.473666Z",
     "start_time": "2019-04-08T09:48:42.360Z"
    }
   },
   "outputs": [
    {
     "name": "stderr",
     "output_type": "stream",
     "text": [
      " Package ‘exactRankTests’ is no longer under development.\n",
      " Please consider using package ‘coin’ instead.\n",
      "\n"
     ]
    },
    {
     "data": {
      "text/plain": [
       "\n",
       "\tExact Wilcoxon rank sum test\n",
       "\n",
       "data:  data1 and data2\n",
       "W = 27, p-value = 0.08921\n",
       "alternative hypothesis: true mu is not equal to 0\n",
       "95 percent confidence interval:\n",
       " -39   4\n",
       "sample estimates:\n",
       "difference in location \n",
       "                   -18 \n"
      ]
     },
     "metadata": {},
     "output_type": "display_data"
    }
   ],
   "source": [
    "# install.packages(\"exactRankTests\", dependencies=T)\n",
    "### [初回実行時に表示さるエラー]\n",
    "### Package ‘exactRankTests’ is no longer under development.\n",
    "### Please consider using package ‘coin’ instead.\n",
    "### こちらのサイトを参考に: https://oku.edu.mie-u.ac.jp/~okumura/stat/signtest.html\n",
    "\n",
    "library(\"exactRankTests\")\n",
    "wilcox.exact(data1, data2, paired=FALSE, alternative=c(\"two.sided\"), conf.int=TRUE, conf.level=0.95, correct=FALSE)"
   ]
  },
  {
   "cell_type": "markdown",
   "metadata": {},
   "source": [
    "## p.17"
   ]
  },
  {
   "cell_type": "code",
   "execution_count": 3,
   "metadata": {
    "ExecuteTime": {
     "end_time": "2019-04-08T09:49:09.787682Z",
     "start_time": "2019-04-08T09:49:09.762Z"
    }
   },
   "outputs": [
    {
     "data": {
      "text/plain": [
       "\n",
       "\tMood two-sample test of scale\n",
       "\n",
       "data:  data1 and data2\n",
       "Z = 2.1504, p-value = 0.03153\n",
       "alternative hypothesis: two.sided\n"
      ]
     },
     "metadata": {},
     "output_type": "display_data"
    }
   ],
   "source": [
    "data1 <- c(45, 60, 68, 47, 66, 40, 41, 55, 30, 58, 51, 31)\n",
    "data2 <- c(50, 56, 48 ,57, 53, 54, 61, 42, 46, 39, 49, 52)\n",
    "mood.test(data1, data2, paired=FALSE, alternative=c(\"two.sided\"), conf.int=TRUE, conf.level=0.95, correct=FALSE)"
   ]
  },
  {
   "cell_type": "markdown",
   "metadata": {},
   "source": [
    "## p.26"
   ]
  },
  {
   "cell_type": "code",
   "execution_count": 4,
   "metadata": {
    "ExecuteTime": {
     "end_time": "2019-04-08T09:49:30.061362Z",
     "start_time": "2019-04-08T09:49:30.011Z"
    }
   },
   "outputs": [
    {
     "data": {
      "text/html": [
       "1.78973760932945"
      ],
      "text/latex": [
       "1.78973760932945"
      ],
      "text/markdown": [
       "1.78973760932945"
      ],
      "text/plain": [
       "[1] 1.789738"
      ]
     },
     "metadata": {},
     "output_type": "display_data"
    }
   ],
   "source": [
    "# install.packages(\"BWStest\", dependencies=T)\n",
    "library(\"BWStest\")\n",
    "data1 <- c(191, 173, 188, 163, 184, 200, 174)\n",
    "data2 <- c(211, 185, 201, 195, 189, 199, 180)\n",
    "murakami_stat(data1, data2, flavor=1L)"
   ]
  },
  {
   "cell_type": "markdown",
   "metadata": {},
   "source": [
    "## p.30"
   ]
  },
  {
   "cell_type": "code",
   "execution_count": 5,
   "metadata": {
    "ExecuteTime": {
     "end_time": "2019-04-08T09:49:42.656070Z",
     "start_time": "2019-04-08T09:49:42.631Z"
    }
   },
   "outputs": [
    {
     "data": {
      "text/plain": [
       "\n",
       "\tKruskal-Wallis rank sum test\n",
       "\n",
       "data:  list(data1, data2, data3)\n",
       "Kruskal-Wallis chi-squared = 9.2316, df = 2, p-value = 0.009894\n"
      ]
     },
     "metadata": {},
     "output_type": "display_data"
    }
   ],
   "source": [
    "data1 <- c(262, 307, 211, 323, 454, 339, 304, 154, 287, 356)\n",
    "data2 <- c(465, 501, 455, 355, 468, 362)\n",
    "data3 <- c(343, 772, 207, 1048, 838, 687)\n",
    "kruskal.test(list(data1, data2, data3))"
   ]
  },
  {
   "cell_type": "markdown",
   "metadata": {},
   "source": [
    "## p.33~34"
   ]
  },
  {
   "cell_type": "code",
   "execution_count": 6,
   "metadata": {
    "ExecuteTime": {
     "end_time": "2019-04-08T09:50:02.855640Z",
     "start_time": "2019-04-08T09:50:02.816Z"
    }
   },
   "outputs": [
    {
     "data": {
      "text/plain": [
       "\n",
       "\tJonckheere-Terpstra test\n",
       "\n",
       "data:  \n",
       "JT = 130, p-value = 0.0005051\n",
       "alternative hypothesis: increasing\n"
      ]
     },
     "metadata": {},
     "output_type": "display_data"
    }
   ],
   "source": [
    "# install.packages(\"clinfun\", dependencies=T)\n",
    "library(\"clinfun\")\n",
    "data1 <- c(262, 307, 211, 323, 454, 339, 304, 154, 287, 356)\n",
    "data2 <- c(465, 501, 455, 355, 468, 362)\n",
    "data3 <- c(343, 772, 207, 1048, 838, 687)\n",
    "gdata <- c(rep(1, length(data1)), rep(2, length(data2)), rep(3, length(data3)))\n",
    "dataA <- c(data1, data2, data3)\n",
    "jonckheere.test(dataA, gdata, \"increasing\")"
   ]
  }
 ],
 "metadata": {
  "hide_input": false,
  "kernelspec": {
   "display_name": "R",
   "language": "R",
   "name": "ir"
  },
  "language_info": {
   "codemirror_mode": "r",
   "file_extension": ".r",
   "mimetype": "text/x-r-source",
   "name": "R",
   "pygments_lexer": "r",
   "version": "3.5.1"
  },
  "toc": {
   "base_numbering": 1,
   "nav_menu": {},
   "number_sections": false,
   "sideBar": true,
   "skip_h1_title": false,
   "title_cell": "Table of Contents",
   "title_sidebar": "Contents",
   "toc_cell": true,
   "toc_position": {
    "height": "calc(100% - 180px)",
    "left": "10px",
    "top": "150px",
    "width": "247.11956787109375px"
   },
   "toc_section_display": true,
   "toc_window_display": true
  }
 },
 "nbformat": 4,
 "nbformat_minor": 2
}
