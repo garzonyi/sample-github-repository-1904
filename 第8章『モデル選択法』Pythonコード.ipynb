{
 "cells": [
  {
   "cell_type": "markdown",
   "metadata": {
    "toc": true
   },
   "source": [
    "<h1>Table of Contents<span class=\"tocSkip\"></span></h1>\n",
    "<div class=\"toc\"><ul class=\"toc-item\"><li><span><a href=\"#第8章『モデル選択法』\" data-toc-modified-id=\"第8章『モデル選択法』-1\">第8章『モデル選択法』</a></span><ul class=\"toc-item\"><li><span><a href=\"#p.6~8\" data-toc-modified-id=\"p.6~8-1.1\">p.6~8</a></span></li></ul></li></ul></div>"
   ]
  },
  {
   "cell_type": "markdown",
   "metadata": {},
   "source": [
    "# 第8章『モデル選択法』"
   ]
  },
  {
   "cell_type": "markdown",
   "metadata": {},
   "source": [
    "## p.6~8"
   ]
  },
  {
   "cell_type": "code",
   "execution_count": 1,
   "metadata": {
    "ExecuteTime": {
     "end_time": "2019-04-14T17:27:36.144815Z",
     "start_time": "2019-04-14T17:27:35.814552Z"
    }
   },
   "outputs": [],
   "source": [
    "import pandas as pd\n",
    "\n",
    "x1 = [7, 1, 11, 11, 7, 11, 3, 1, 2, 21, 1, 11, 10]\n",
    "x2 = [26, 29, 56, 31, 52, 55, 71, 31, 54, 47, 40, 66, 68]\n",
    "x3 = [6 ,15, 8, 8, 6, 9, 17, 22, 18, 4, 23, 9, 8]\n",
    "x4 = [60, 52, 29, 47, 33, 22, 6, 44, 22, 26, 34, 12, 12]\n",
    "y = [78.5, 74.3, 104.3, 87.6, 95.9, 109.2, 102.7, 72.5, 93.1, 115.9, 83.8, 113.3, 109.4]\n",
    "dat = pd.DataFrame({\"x1\": x1, \"x2\": x2, \"x3\": x3, \"x4\": x4, \"y\": y})"
   ]
  },
  {
   "cell_type": "code",
   "execution_count": 2,
   "metadata": {
    "ExecuteTime": {
     "end_time": "2019-04-14T17:27:42.054070Z",
     "start_time": "2019-04-14T17:27:41.786060Z"
    }
   },
   "outputs": [
    {
     "name": "stderr",
     "output_type": "stream",
     "text": [
      "/Users/yosukeitani/anaconda3/lib/python3.6/site-packages/scipy/stats/stats.py:1394: UserWarning: kurtosistest only valid for n>=20 ... continuing anyway, n=13\n",
      "  \"anyway, n=%i\" % int(n))\n"
     ]
    },
    {
     "data": {
      "text/html": [
       "<table class=\"simpletable\">\n",
       "<caption>OLS Regression Results</caption>\n",
       "<tr>\n",
       "  <th>Dep. Variable:</th>            <td>y</td>        <th>  R-squared:         </th> <td>   0.984</td>\n",
       "</tr>\n",
       "<tr>\n",
       "  <th>Model:</th>                   <td>OLS</td>       <th>  Adj. R-squared:    </th> <td>   0.976</td>\n",
       "</tr>\n",
       "<tr>\n",
       "  <th>Method:</th>             <td>Least Squares</td>  <th>  F-statistic:       </th> <td>   122.8</td>\n",
       "</tr>\n",
       "<tr>\n",
       "  <th>Date:</th>             <td>Mon, 15 Apr 2019</td> <th>  Prob (F-statistic):</th> <td>3.26e-07</td>\n",
       "</tr>\n",
       "<tr>\n",
       "  <th>Time:</th>                 <td>02:27:42</td>     <th>  Log-Likelihood:    </th> <td> -26.300</td>\n",
       "</tr>\n",
       "<tr>\n",
       "  <th>No. Observations:</th>      <td>    13</td>      <th>  AIC:               </th> <td>   62.60</td>\n",
       "</tr>\n",
       "<tr>\n",
       "  <th>Df Residuals:</th>          <td>     8</td>      <th>  BIC:               </th> <td>   65.43</td>\n",
       "</tr>\n",
       "<tr>\n",
       "  <th>Df Model:</th>              <td>     4</td>      <th>                     </th>     <td> </td>   \n",
       "</tr>\n",
       "<tr>\n",
       "  <th>Covariance Type:</th>      <td>nonrobust</td>    <th>                     </th>     <td> </td>   \n",
       "</tr>\n",
       "</table>\n",
       "<table class=\"simpletable\">\n",
       "<tr>\n",
       "      <td></td>         <th>coef</th>     <th>std err</th>      <th>t</th>      <th>P>|t|</th>  <th>[0.025</th>    <th>0.975]</th>  \n",
       "</tr>\n",
       "<tr>\n",
       "  <th>Intercept</th> <td>   81.1499</td> <td>   36.105</td> <td>    2.248</td> <td> 0.055</td> <td>   -2.108</td> <td>  164.408</td>\n",
       "</tr>\n",
       "<tr>\n",
       "  <th>x1</th>        <td>    1.3696</td> <td>    0.411</td> <td>    3.333</td> <td> 0.010</td> <td>    0.422</td> <td>    2.317</td>\n",
       "</tr>\n",
       "<tr>\n",
       "  <th>x2</th>        <td>    0.3232</td> <td>    0.366</td> <td>    0.883</td> <td> 0.403</td> <td>   -0.521</td> <td>    1.167</td>\n",
       "</tr>\n",
       "<tr>\n",
       "  <th>x3</th>        <td>   -0.1071</td> <td>    0.431</td> <td>   -0.248</td> <td> 0.810</td> <td>   -1.101</td> <td>    0.887</td>\n",
       "</tr>\n",
       "<tr>\n",
       "  <th>x4</th>        <td>   -0.3340</td> <td>    0.364</td> <td>   -0.918</td> <td> 0.385</td> <td>   -1.173</td> <td>    0.505</td>\n",
       "</tr>\n",
       "</table>\n",
       "<table class=\"simpletable\">\n",
       "<tr>\n",
       "  <th>Omnibus:</th>       <td> 0.061</td> <th>  Durbin-Watson:     </th> <td>   2.071</td>\n",
       "</tr>\n",
       "<tr>\n",
       "  <th>Prob(Omnibus):</th> <td> 0.970</td> <th>  Jarque-Bera (JB):  </th> <td>   0.292</td>\n",
       "</tr>\n",
       "<tr>\n",
       "  <th>Skew:</th>          <td> 0.009</td> <th>  Prob(JB):          </th> <td>   0.864</td>\n",
       "</tr>\n",
       "<tr>\n",
       "  <th>Kurtosis:</th>      <td> 2.266</td> <th>  Cond. No.          </th> <td>3.29e+03</td>\n",
       "</tr>\n",
       "</table><br/><br/>Warnings:<br/>[1] Standard Errors assume that the covariance matrix of the errors is correctly specified.<br/>[2] The condition number is large, 3.29e+03. This might indicate that there are<br/>strong multicollinearity or other numerical problems."
      ],
      "text/plain": [
       "<class 'statsmodels.iolib.summary.Summary'>\n",
       "\"\"\"\n",
       "                            OLS Regression Results                            \n",
       "==============================================================================\n",
       "Dep. Variable:                      y   R-squared:                       0.984\n",
       "Model:                            OLS   Adj. R-squared:                  0.976\n",
       "Method:                 Least Squares   F-statistic:                     122.8\n",
       "Date:                Mon, 15 Apr 2019   Prob (F-statistic):           3.26e-07\n",
       "Time:                        02:27:42   Log-Likelihood:                -26.300\n",
       "No. Observations:                  13   AIC:                             62.60\n",
       "Df Residuals:                       8   BIC:                             65.43\n",
       "Df Model:                           4                                         \n",
       "Covariance Type:            nonrobust                                         \n",
       "==============================================================================\n",
       "                 coef    std err          t      P>|t|      [0.025      0.975]\n",
       "------------------------------------------------------------------------------\n",
       "Intercept     81.1499     36.105      2.248      0.055      -2.108     164.408\n",
       "x1             1.3696      0.411      3.333      0.010       0.422       2.317\n",
       "x2             0.3232      0.366      0.883      0.403      -0.521       1.167\n",
       "x3            -0.1071      0.431     -0.248      0.810      -1.101       0.887\n",
       "x4            -0.3340      0.364     -0.918      0.385      -1.173       0.505\n",
       "==============================================================================\n",
       "Omnibus:                        0.061   Durbin-Watson:                   2.071\n",
       "Prob(Omnibus):                  0.970   Jarque-Bera (JB):                0.292\n",
       "Skew:                           0.009   Prob(JB):                        0.864\n",
       "Kurtosis:                       2.266   Cond. No.                     3.29e+03\n",
       "==============================================================================\n",
       "\n",
       "Warnings:\n",
       "[1] Standard Errors assume that the covariance matrix of the errors is correctly specified.\n",
       "[2] The condition number is large, 3.29e+03. This might indicate that there are\n",
       "strong multicollinearity or other numerical problems.\n",
       "\"\"\""
      ]
     },
     "execution_count": 2,
     "metadata": {},
     "output_type": "execute_result"
    }
   ],
   "source": [
    "import statsmodels.formula.api as sm\n",
    "model = sm.ols(formula='y ~ x1+x2+x3+x4', data=dat)\n",
    "fitted = model.fit()\n",
    "fitted.summary()"
   ]
  },
  {
   "cell_type": "code",
   "execution_count": 3,
   "metadata": {
    "ExecuteTime": {
     "end_time": "2019-04-14T17:27:50.413140Z",
     "start_time": "2019-04-14T17:27:50.409587Z"
    }
   },
   "outputs": [
    {
     "name": "stdout",
     "output_type": "stream",
     "text": [
      "62.600790020097655\n"
     ]
    }
   ],
   "source": [
    "print(fitted.aic) # AICの値のみを取り出す"
   ]
  },
  {
   "cell_type": "code",
   "execution_count": null,
   "metadata": {},
   "outputs": [],
   "source": []
  }
 ],
 "metadata": {
  "hide_input": false,
  "kernelspec": {
   "display_name": "Python 3",
   "language": "python",
   "name": "python3"
  },
  "language_info": {
   "codemirror_mode": {
    "name": "ipython",
    "version": 3
   },
   "file_extension": ".py",
   "mimetype": "text/x-python",
   "name": "python",
   "nbconvert_exporter": "python",
   "pygments_lexer": "ipython3",
   "version": "3.6.6"
  },
  "toc": {
   "base_numbering": 1,
   "nav_menu": {},
   "number_sections": false,
   "sideBar": true,
   "skip_h1_title": false,
   "title_cell": "Table of Contents",
   "title_sidebar": "Contents",
   "toc_cell": true,
   "toc_position": {},
   "toc_section_display": true,
   "toc_window_display": true
  }
 },
 "nbformat": 4,
 "nbformat_minor": 2
}
