{
 "cells": [
  {
   "cell_type": "markdown",
   "metadata": {
    "toc": true
   },
   "source": [
    "<h1>Table of Contents<span class=\"tocSkip\"></span></h1>\n",
    "<div class=\"toc\"><ul class=\"toc-item\"><li><span><a href=\"#第9章『ノンパラメトリック検定』\" data-toc-modified-id=\"第9章『ノンパラメトリック検定』-1\">第9章『ノンパラメトリック検定』</a></span><ul class=\"toc-item\"><li><span><a href=\"#p.10\" data-toc-modified-id=\"p.10-1.1\">p.10</a></span></li><li><span><a href=\"#p.17\" data-toc-modified-id=\"p.17-1.2\">p.17</a></span></li><li><span><a href=\"#p.26\" data-toc-modified-id=\"p.26-1.3\">p.26</a></span></li><li><span><a href=\"#p.30\" data-toc-modified-id=\"p.30-1.4\">p.30</a></span></li><li><span><a href=\"#p.33~34\" data-toc-modified-id=\"p.33~34-1.5\">p.33~34</a></span></li></ul></li></ul></div>"
   ]
  },
  {
   "cell_type": "markdown",
   "metadata": {},
   "source": [
    "# 第9章『ノンパラメトリック検定』"
   ]
  },
  {
   "cell_type": "markdown",
   "metadata": {},
   "source": [
    "## p.10"
   ]
  },
  {
   "cell_type": "code",
   "execution_count": 1,
   "metadata": {
    "ExecuteTime": {
     "end_time": "2019-04-14T17:25:55.511060Z",
     "start_time": "2019-04-14T17:25:55.194449Z"
    }
   },
   "outputs": [
    {
     "data": {
      "text/plain": [
       "MannwhitneyuResult(statistic=27.0, pvalue=0.08209870865427452)"
      ]
     },
     "execution_count": 1,
     "metadata": {},
     "output_type": "execute_result"
    }
   ],
   "source": [
    "import numpy as np\n",
    "from scipy import stats\n",
    "\n",
    "# https://qiita.com/s-wakaba/items/0e4f726e1e9bb5331fb5\n",
    "# https://docs.scipy.org/doc/scipy/reference/generated/scipy.stats.mannwhitneyu.html\n",
    "\n",
    "data1 = np.array([59, 91, 64, 53, 75, 69, 36, 43, 54, 99])\n",
    "data2 = np.array([67, 93, 72, 55, 109, 86, 50, 80, 95, 103])\n",
    "\n",
    "# Rのcorrect=T/F、Pythonのuse_continuity=True/False\n",
    "stats.mannwhitneyu(data1, data2, use_continuity=False, alternative='two-sided')"
   ]
  },
  {
   "cell_type": "markdown",
   "metadata": {},
   "source": [
    "## p.17"
   ]
  },
  {
   "cell_type": "code",
   "execution_count": 2,
   "metadata": {
    "ExecuteTime": {
     "end_time": "2019-04-14T17:26:08.245129Z",
     "start_time": "2019-04-14T17:26:08.237597Z"
    }
   },
   "outputs": [
    {
     "data": {
      "text/plain": [
       "(2.1503780770194516, 0.031525321010661904)"
      ]
     },
     "execution_count": 2,
     "metadata": {},
     "output_type": "execute_result"
    }
   ],
   "source": [
    "import numpy as np\n",
    "from scipy import stats\n",
    "\n",
    "# https://docs.scipy.org/doc/scipy/reference/generated/scipy.stats.mood.html\n",
    "\n",
    "data1 = np.array([45, 60, 68, 47, 66, 40, 41, 55, 30, 58, 51, 31])\n",
    "data2 = np.array([50, 56, 48 ,57, 53, 54, 61, 42, 46, 39, 49, 52])\n",
    "stats.mood(data1, data2) # returnは z値, p値 の順"
   ]
  },
  {
   "cell_type": "markdown",
   "metadata": {},
   "source": [
    "## p.26"
   ]
  },
  {
   "cell_type": "code",
   "execution_count": null,
   "metadata": {},
   "outputs": [],
   "source": []
  },
  {
   "cell_type": "markdown",
   "metadata": {},
   "source": [
    "## p.30"
   ]
  },
  {
   "cell_type": "code",
   "execution_count": 3,
   "metadata": {
    "ExecuteTime": {
     "end_time": "2019-04-14T17:26:38.516862Z",
     "start_time": "2019-04-14T17:26:38.510058Z"
    }
   },
   "outputs": [
    {
     "data": {
      "text/plain": [
       "KruskalResult(statistic=9.231620553359676, pvalue=0.009894163148426277)"
      ]
     },
     "execution_count": 3,
     "metadata": {},
     "output_type": "execute_result"
    }
   ],
   "source": [
    "import numpy as np\n",
    "from scipy import stats\n",
    "\n",
    "# https://docs.scipy.org/doc/scipy/reference/generated/scipy.stats.kruskal.html#scipy.stats.kruskal\n",
    "\n",
    "data1 = np.array([262, 307, 211, 323, 454, 339, 304, 154, 287, 356])\n",
    "data2 = np.array([465, 501, 455, 355, 468, 362])\n",
    "data3 = np.array([343, 772, 207, 1048, 838, 687])\n",
    "stats.kruskal(data1, data2, data3)"
   ]
  },
  {
   "cell_type": "markdown",
   "metadata": {},
   "source": [
    "## p.33~34"
   ]
  },
  {
   "cell_type": "code",
   "execution_count": 4,
   "metadata": {
    "ExecuteTime": {
     "end_time": "2019-04-14T17:26:50.847345Z",
     "start_time": "2019-04-14T17:26:50.842796Z"
    }
   },
   "outputs": [],
   "source": [
    "\"\"\" おそらく、Pythonライブラリはない \"\"\"\n",
    "\n",
    "import numpy as np\n",
    "from scipy import stats\n",
    "\n",
    "data1 = np.array([262, 307, 211, 323, 454, 339, 304, 154, 287, 356])\n",
    "data2 = np.array([465, 501, 455, 355, 468, 362])\n",
    "data3 = np.array([343, 772, 207, 1048, 838, 687])\n",
    "#data1 = np.array([rep(1, length(data1)), rep(2, length(data2)), rep(3, length(data3))])\n",
    "#dataA = np.array([data1, data2, data3])\n",
    "#jonckheere.test(dataA, gdata, \"increasing\")"
   ]
  }
 ],
 "metadata": {
  "hide_input": false,
  "kernelspec": {
   "display_name": "Python 3",
   "language": "python",
   "name": "python3"
  },
  "language_info": {
   "codemirror_mode": {
    "name": "ipython",
    "version": 3
   },
   "file_extension": ".py",
   "mimetype": "text/x-python",
   "name": "python",
   "nbconvert_exporter": "python",
   "pygments_lexer": "ipython3",
   "version": "3.6.6"
  },
  "toc": {
   "base_numbering": 1,
   "nav_menu": {},
   "number_sections": false,
   "sideBar": true,
   "skip_h1_title": false,
   "title_cell": "Table of Contents",
   "title_sidebar": "Contents",
   "toc_cell": true,
   "toc_position": {},
   "toc_section_display": true,
   "toc_window_display": true
  }
 },
 "nbformat": 4,
 "nbformat_minor": 2
}
