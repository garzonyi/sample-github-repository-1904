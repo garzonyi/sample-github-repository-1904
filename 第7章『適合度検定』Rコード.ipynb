{
 "cells": [
  {
   "cell_type": "markdown",
   "metadata": {
    "toc": true
   },
   "source": [
    "<h1>Table of Contents<span class=\"tocSkip\"></span></h1>\n",
    "<div class=\"toc\"><ul class=\"toc-item\"><li><span><a href=\"#第7章『適合度検定』\" data-toc-modified-id=\"第7章『適合度検定』-1\">第7章『適合度検定』</a></span><ul class=\"toc-item\"><li><span><a href=\"#p.12~13\" data-toc-modified-id=\"p.12~13-1.1\">p.12~13</a></span></li><li><span><a href=\"#p.15~16\" data-toc-modified-id=\"p.15~16-1.2\">p.15~16</a></span></li></ul></li></ul></div>"
   ]
  },
  {
   "cell_type": "markdown",
   "metadata": {},
   "source": [
    "# 第7章『適合度検定』"
   ]
  },
  {
   "cell_type": "markdown",
   "metadata": {},
   "source": [
    "## p.12~13"
   ]
  },
  {
   "cell_type": "code",
   "execution_count": 1,
   "metadata": {
    "ExecuteTime": {
     "end_time": "2019-04-08T09:45:05.160825Z",
     "start_time": "2019-04-08T09:45:04.991Z"
    }
   },
   "outputs": [
    {
     "data": {
      "text/html": [
       "0.00270115295920947"
      ],
      "text/latex": [
       "0.00270115295920947"
      ],
      "text/markdown": [
       "0.00270115295920947"
      ],
      "text/plain": [
       "[1] 0.002701153"
      ]
     },
     "metadata": {},
     "output_type": "display_data"
    }
   ],
   "source": [
    "HWE_test <- function(o1,o2,o3){\n",
    "n <- o1+o2+o3\n",
    "p <- (2*o1+o2)/(2*n)\n",
    "ob <- c(o1,o2,o3)\n",
    "ex <- c(n*p^2, 2*n*p*(1-p),n*(1-p)^2)\n",
    "X <- sum((ob-ex)^2/ex)\n",
    "p_value <- 1-pchisq(X,1)\n",
    "p_value\n",
    "}\n",
    "HWE_test (50,120,30)"
   ]
  },
  {
   "cell_type": "markdown",
   "metadata": {},
   "source": [
    "## p.15~16"
   ]
  },
  {
   "cell_type": "code",
   "execution_count": 2,
   "metadata": {
    "ExecuteTime": {
     "end_time": "2019-04-08T09:45:22.260465Z",
     "start_time": "2019-04-08T09:45:22.166Z"
    }
   },
   "outputs": [
    {
     "data": {
      "text/plain": [
       "\n",
       "\tPearson's Chi-squared test\n",
       "\n",
       "data:  matrix(c(case, ctrl), 2, 2)\n",
       "X-squared = 9.6038, df = 1, p-value = 0.001942\n"
      ]
     },
     "metadata": {},
     "output_type": "display_data"
    }
   ],
   "source": [
    "Association_test <- function(n10,n11,n12,n20,n21,n22){\n",
    "case <- c(2*n10+n11,n11+2*n12)\n",
    "ctrl <- c(2*n20+n21,n21+2*n22)\n",
    "chisq.test(matrix(c(case,ctrl),2,2), correct=FALSE)\n",
    "}\n",
    "Association_test(50,120,30,60,150,90)"
   ]
  },
  {
   "cell_type": "code",
   "execution_count": 3,
   "metadata": {
    "ExecuteTime": {
     "end_time": "2019-04-08T09:45:28.186291Z",
     "start_time": "2019-04-08T09:45:28.161Z"
    }
   },
   "outputs": [
    {
     "data": {
      "text/plain": [
       "\n",
       "\tFisher's Exact Test for Count Data\n",
       "\n",
       "data:  matrix(c(case, ctrl), 2, 2)\n",
       "p-value = 0.00239\n",
       "alternative hypothesis: true odds ratio is not equal to 1\n",
       "95 percent confidence interval:\n",
       " 1.149061 1.942337\n",
       "sample estimates:\n",
       "odds ratio \n",
       "  1.493189 \n"
      ]
     },
     "metadata": {},
     "output_type": "display_data"
    }
   ],
   "source": [
    "Association_test <- function(n10,n11,n12,n20,n21,n22){\n",
    "case <- c(2*n10+n11,n11+2*n12)\n",
    "ctrl <- c(2*n20+n21,n21+2*n22)\n",
    "fisher.test(matrix(c(case,ctrl),2,2))\n",
    "}\n",
    "Association_test(50,120,30,60,150,90)"
   ]
  }
 ],
 "metadata": {
  "hide_input": false,
  "kernelspec": {
   "display_name": "R",
   "language": "R",
   "name": "ir"
  },
  "language_info": {
   "codemirror_mode": "r",
   "file_extension": ".r",
   "mimetype": "text/x-r-source",
   "name": "R",
   "pygments_lexer": "r",
   "version": "3.5.1"
  },
  "toc": {
   "base_numbering": 1,
   "nav_menu": {},
   "number_sections": false,
   "sideBar": true,
   "skip_h1_title": false,
   "title_cell": "Table of Contents",
   "title_sidebar": "Contents",
   "toc_cell": true,
   "toc_position": {
    "height": "calc(100% - 180px)",
    "left": "10px",
    "top": "150px",
    "width": "247.11956787109375px"
   },
   "toc_section_display": true,
   "toc_window_display": true
  }
 },
 "nbformat": 4,
 "nbformat_minor": 2
}
