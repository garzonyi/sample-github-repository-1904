{
 "cells": [
  {
   "cell_type": "markdown",
   "metadata": {
    "toc": true
   },
   "source": [
    "<h1>Table of Contents<span class=\"tocSkip\"></span></h1>\n",
    "<div class=\"toc\"><ul class=\"toc-item\"><li><span><a href=\"#第11章『計算機指向型法』\" data-toc-modified-id=\"第11章『計算機指向型法』-1\">第11章『計算機指向型法』</a></span><ul class=\"toc-item\"><li><span><a href=\"#p.2\" data-toc-modified-id=\"p.2-1.1\">p.2</a></span></li><li><span><a href=\"#p.9\" data-toc-modified-id=\"p.9-1.2\">p.9</a></span></li><li><span><a href=\"#p.10~11\" data-toc-modified-id=\"p.10~11-1.3\">p.10~11</a></span></li><li><span><a href=\"#p.18~19\" data-toc-modified-id=\"p.18~19-1.4\">p.18~19</a></span></li><li><span><a href=\"#p.22~23\" data-toc-modified-id=\"p.22~23-1.5\">p.22~23</a></span></li></ul></li></ul></div>"
   ]
  },
  {
   "cell_type": "markdown",
   "metadata": {},
   "source": [
    "# 第11章『計算機指向型法』"
   ]
  },
  {
   "cell_type": "markdown",
   "metadata": {},
   "source": [
    "## p.2"
   ]
  },
  {
   "cell_type": "code",
   "execution_count": 1,
   "metadata": {
    "ExecuteTime": {
     "end_time": "2019-04-14T17:21:52.776635Z",
     "start_time": "2019-04-14T17:21:52.646426Z"
    }
   },
   "outputs": [
    {
     "data": {
      "text/plain": [
       "2.0106192982974678"
      ]
     },
     "execution_count": 1,
     "metadata": {},
     "output_type": "execute_result"
    }
   ],
   "source": [
    "\"\"\" Rはリストの要素番号が1からはじまるが、Pythonは他のプログラミング言語同様に0からはじまる。 \"\"\"\n",
    "\n",
    "import numpy as np\n",
    "import math\n",
    "\n",
    "n = 100\n",
    "k = 0\n",
    "\n",
    "for i in list(range(1,n,1)):\n",
    "    temp = [np.random.uniform(0, math.pi, 1)[0], np.random.uniform(0, 1, 1)[0]]\n",
    "    if(temp[1] <= math.sin(temp[0])):\n",
    "        k = k+1\n",
    "k/n*math.pi"
   ]
  },
  {
   "cell_type": "markdown",
   "metadata": {},
   "source": [
    "## p.9"
   ]
  },
  {
   "cell_type": "code",
   "execution_count": 3,
   "metadata": {
    "ExecuteTime": {
     "end_time": "2019-04-14T17:22:40.562247Z",
     "start_time": "2019-04-14T17:22:40.128311Z"
    }
   },
   "outputs": [
    {
     "name": "stdout",
     "output_type": "stream",
     "text": [
      "93.76727864753263\n",
      "106.65938486238261\n"
     ]
    }
   ],
   "source": [
    "\"\"\" Pythonでは変数名に .(ドット) は使わない。 \"\"\"\n",
    "\"\"\" サンプリングの際、Pythonでは 完全な復元抽出（重複を許さないサンプリング）の場合、random.choices() を用い、重複を許す場合は random.sample() を用いる \"\"\"\n",
    "\n",
    "# https://docs.scipy.org/doc/scipy/reference/generated/scipy.stats.ttest_1samp.html\n",
    "\n",
    "import math\n",
    "from statistics import mean, variance\n",
    "from scipy import stats\n",
    "import random\n",
    "\n",
    "data = [93.83, 103.96, 102.87, 100.23, 105.68,\n",
    "          101.32, 97.95, 89.72, 101.00, 95.57,\n",
    "          96.43, 105.93, 94.88, 101.29, 102.75,\n",
    "          98.06, 97.62, 98.60, 102.79, 102.64,\n",
    "          102.57, 97.93, 100.58, 103.77, 95.74]\n",
    "\n",
    "n = len(data) \n",
    "B = 3000\n",
    "alpha = 0.05\n",
    "m = (alpha / 2) * B\n",
    "xbar = mean(data)\n",
    "s_mle = (n - 1) / n * variance(data)\n",
    "temp = []\n",
    "#temp[0] = int(B)\n",
    "for i in list(range(1,B,1)):\n",
    "    redata = random.choices(data, k=n)\n",
    "    temp.append(math.sqrt(n / (n - 1)) * stats.ttest_1samp(redata, popmean=xbar).statistic)\n",
    "\n",
    "temp_s = sorted(temp)\n",
    "print(xbar + s_mle / math.sqrt(n) * temp_s[math.floor(m)])\n",
    "print(xbar + s_mle / math.sqrt(n) * temp_s[math.floor(B + 1 - m)])"
   ]
  },
  {
   "cell_type": "markdown",
   "metadata": {},
   "source": [
    "## p.10~11"
   ]
  },
  {
   "cell_type": "code",
   "execution_count": 4,
   "metadata": {
    "ExecuteTime": {
     "end_time": "2019-04-14T17:23:02.875205Z",
     "start_time": "2019-04-14T17:22:58.892890Z"
    }
   },
   "outputs": [
    {
     "data": {
      "text/plain": [
       "0.0026666666666666666"
      ]
     },
     "execution_count": 4,
     "metadata": {},
     "output_type": "execute_result"
    }
   ],
   "source": [
    "import math\n",
    "from statistics import mean, variance\n",
    "\n",
    "data = [93.83, 103.96, 102.87, 100.23, 105.68,\n",
    "          101.32, 97.95, 89.72, 101.00, 95.57,\n",
    "          96.43, 105.93, 94.88, 101.29, 102.75, \n",
    "          98.06,97.62,98.60,102.79,102.64,\n",
    "          102.57, 97.93, 100.58, 103.77, 95.74]\n",
    "n = len(data)\n",
    "B = 3000\n",
    "mu_0 = 97\n",
    "T = math.sqrt(n / (n - 1)) * stats.ttest_1samp(data, popmean=mu_0).statistic\n",
    "temp = []\n",
    "#temp <- numeric(B) \n",
    "for i in list(range(1,B,1)):\n",
    "    redata1 = random.choices(data, k=n)\n",
    "    redata2 = list(map(lambda x: x - mean(data) + mu_0, redata1))\n",
    "    temp.append(math.sqrt(n / (n - 1)) * stats.ttest_1samp(redata2, popmean=mu_0).statistic)\n",
    "\n",
    "len(list(filter(lambda x: x>T, temp)))/B"
   ]
  },
  {
   "cell_type": "markdown",
   "metadata": {},
   "source": [
    "## p.18~19"
   ]
  },
  {
   "cell_type": "code",
   "execution_count": 5,
   "metadata": {
    "ExecuteTime": {
     "end_time": "2019-04-14T17:23:15.752410Z",
     "start_time": "2019-04-14T17:23:15.733632Z"
    }
   },
   "outputs": [
    {
     "name": "stdout",
     "output_type": "stream",
     "text": [
      "    mean: 29.890029961170036\n",
      "variance: 0.11367176057993533\n",
      "  median: 29.71383603997977\n",
      "    2.5%: 29.432332021802296\n",
      "   97.5%: 30.367492503147687\n"
     ]
    }
   ],
   "source": [
    "import math\n",
    "from statistics import mean, median, variance\n",
    "import numpy as np\n",
    "import random\n",
    "\n",
    "dat = [27,41,34,29,35,30,29,30,27,\n",
    "       33, 23, 32, 30, 36, 32, 29, 20, 33, 30, 31]\n",
    "\n",
    "n = len(dat)\n",
    "xbar = mean(dat)\n",
    "\n",
    "result = []\n",
    "premu = 0\n",
    "dd2 = 3**2 \n",
    "sig2 = 5**2\n",
    "B = 1000\n",
    "T = 10**1 + B\n",
    "\n",
    "for ii in list(range(1, T, 1)):\n",
    "    newmu = np.random.normal(premu, math.sqrt(dd2), 1)[0]\n",
    "    r = math.exp( -n*( (newmu - xbar)**2 - (premu - xbar)**2 )/(2*sig2) ) \n",
    "    if(r > random.random()):\n",
    "        premu = newmu\n",
    "    result.append(premu)\n",
    "\n",
    "#print(result[B:])\n",
    "print(\"    mean: \" + str(mean(result[B:])))\n",
    "print(\"variance: \" + str((T - B - 1) / (T - B) * variance(result[B:])))\n",
    "print(\"  median: \" + str(median(result[B:])))\n",
    "print(\"    2.5%: \" + str(np.quantile(result[B:], 0.025)))\n",
    "print(\"   97.5%: \" + str(np.quantile(result[B:], 0.975)))"
   ]
  },
  {
   "cell_type": "markdown",
   "metadata": {},
   "source": [
    "## p.22~23"
   ]
  },
  {
   "cell_type": "code",
   "execution_count": 6,
   "metadata": {
    "ExecuteTime": {
     "end_time": "2019-04-14T17:23:32.670261Z",
     "start_time": "2019-04-14T17:23:31.894652Z"
    }
   },
   "outputs": [
    {
     "name": "stdout",
     "output_type": "stream",
     "text": [
      "mean of postmu:       20.683198983187012\n",
      "mean of postsig2:     18.14423889469505\n",
      "var of postmu:        0.9259248225257631\n",
      "var of postsig2:      49.315889852128166\n",
      "median of postmu:     20.689723033484672\n",
      "median of postsig2:   16.712985784055466\n",
      "conf-int of postmu:   [18.76261239 22.58620253]\n",
      "conf-int of postsig2: [ 9.0274041  35.97034552]\n",
      "probability of mu<20: 0.2288\n"
     ]
    }
   ],
   "source": [
    "# https://docs.scipy.org/doc/scipy-0.13.0/reference/generated/scipy.stats.invgamma.html\n",
    "\n",
    "import math\n",
    "from statistics import mean, median, variance\n",
    "import numpy as np\n",
    "from scipy.stats import invgamma\n",
    "\n",
    "dat = [21,18,21,16,23,16,20,22,28,19,19,23,18, 18, 26, 28, 19, 14, 22, 23]\n",
    "\n",
    "n = len(dat)\n",
    "xbar = mean(dat)\n",
    "s2 = (n-1) / n * variance(dat)\n",
    "\n",
    "result = []\n",
    "presig2 = 10**2\n",
    "B = 1000\n",
    "T = 10**4 + B \n",
    "\n",
    "for ii in list(range(1, T, 1)):\n",
    "    premu = np.random.normal(xbar, math.sqrt(presig2 / n), 1)[0] # ok\n",
    "    x = 1\n",
    "    a = n/2-1\n",
    "    scale = (n * s2 + n * (premu - xbar)**2) / 2\n",
    "    presig2 = invgamma.rvs(a, size=1, scale=scale)[0] # ok\n",
    "    #result<-rbind(result,c(premu,presig2))\n",
    "    result.append([premu, presig2]) # maybe?\n",
    "\n",
    "list_premu = [premu for premu,presig2 in result[B:]]\n",
    "list_presig2 = [presig2 for premu,presig2 in result[B:]]\n",
    "print(\"mean of postmu:       \" + str(mean(list_premu)))\n",
    "print(\"mean of postsig2:     \" + str(mean(list_presig2)))\n",
    "print(\"var of postmu:        \" + str((T-B-1)/(T-B)*variance(list_premu)))\n",
    "print(\"var of postsig2:      \" + str((T-B-1)/(T-B)*variance(list_presig2)))\n",
    "print(\"median of postmu:     \" + str(median(list_premu)))\n",
    "print(\"median of postsig2:   \" + str(median(list_presig2)))\n",
    "print(\"conf-int of postmu:   \" + str(np.quantile(list_premu, [0.025,0.975])))\n",
    "print(\"conf-int of postsig2: \" + str(np.quantile(list_presig2, [0.025,0.975])))\n",
    "print(\"probability of mu<20: \" + str(np.sum(np.array(list_premu)<20)/(T-B)))"
   ]
  }
 ],
 "metadata": {
  "hide_input": false,
  "kernelspec": {
   "display_name": "Python 3",
   "language": "python",
   "name": "python3"
  },
  "language_info": {
   "codemirror_mode": {
    "name": "ipython",
    "version": 3
   },
   "file_extension": ".py",
   "mimetype": "text/x-python",
   "name": "python",
   "nbconvert_exporter": "python",
   "pygments_lexer": "ipython3",
   "version": "3.6.6"
  },
  "toc": {
   "base_numbering": 1,
   "nav_menu": {},
   "number_sections": false,
   "sideBar": true,
   "skip_h1_title": false,
   "title_cell": "Table of Contents",
   "title_sidebar": "Contents",
   "toc_cell": true,
   "toc_position": {},
   "toc_section_display": true,
   "toc_window_display": true
  }
 },
 "nbformat": 4,
 "nbformat_minor": 2
}
