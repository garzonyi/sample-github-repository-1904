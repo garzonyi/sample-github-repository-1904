{
 "cells": [
  {
   "cell_type": "markdown",
   "metadata": {
    "toc": true
   },
   "source": [
    "<h1>Table of Contents<span class=\"tocSkip\"></span></h1>\n",
    "<div class=\"toc\"><ul class=\"toc-item\"><li><span><a href=\"#第13章『経時データ・パネルデータ解析入門』\" data-toc-modified-id=\"第13章『経時データ・パネルデータ解析入門』-1\">第13章『経時データ・パネルデータ解析入門』</a></span><ul class=\"toc-item\"><li><span><a href=\"#p.6~7\" data-toc-modified-id=\"p.6~7-1.1\">p.6~7</a></span></li><li><span><a href=\"#p.8~10\" data-toc-modified-id=\"p.8~10-1.2\">p.8~10</a></span></li><li><span><a href=\"#p.14~15\" data-toc-modified-id=\"p.14~15-1.3\">p.14~15</a></span></li><li><span><a href=\"#p.17~19\" data-toc-modified-id=\"p.17~19-1.4\">p.17~19</a></span></li><li><span><a href=\"#p.20~21\" data-toc-modified-id=\"p.20~21-1.5\">p.20~21</a></span></li></ul></li></ul></div>"
   ]
  },
  {
   "cell_type": "markdown",
   "metadata": {},
   "source": [
    "# 第13章『経時データ・パネルデータ解析入門』"
   ]
  },
  {
   "cell_type": "markdown",
   "metadata": {},
   "source": [
    "## p.6~7"
   ]
  },
  {
   "cell_type": "code",
   "execution_count": 1,
   "metadata": {
    "ExecuteTime": {
     "end_time": "2019-04-08T09:59:22.243956Z",
     "start_time": "2019-04-08T09:59:22.050Z"
    }
   },
   "outputs": [],
   "source": [
    "dat <- read.csv(\"datPR1964.csv\") \n",
    "\n",
    "datR <- dat[dat$sex==\"F\",]\n",
    "datR$id <- factor(datR$id)\n",
    "datR$age <- factor(datR$age) \n",
    "n<-length(levels(datR$id))\n",
    "p <- length(levels(datR$age))\n",
    "bary <- mean(datR$dis)\n",
    "baryp <- rep(by(datR$dis, datR$age, mean), n)\n",
    "baryn <- rep(by(datR$dis, datR$id, mean), rep(4, n))\n",
    "s2b <- sum((baryp- bary)^2) \n",
    "s2d<-sum((baryn-bary)^2)\n",
    "s2e <- sum((datR$dis - baryp - baryn + bary)^2)\n",
    "s2t <- (n*p-1)*var(datR$dis)\n",
    "tils2b <- s2b/(p-1)\n",
    "tils2d <- s2d/(n-1)\n",
    "tils2e <- s2e/((p-1)*(n-1))\n",
    "\n",
    "c(p-1, s2b, tils2b, tils2b/tils2e)\n",
    "c(n-1, s2d, tils2d, tils2d/tils2e)\n",
    "c((p-1)*(n-1), s2e, tils2e)\n",
    "c(n*p-1, s2t)\n",
    "\n",
    "1-pf(tils2b/tils2e, p-1, (p-1)*(n-1))\n",
    "1-pf(tils2d/tils2e, n-1, (p-1)*(n-1))"
   ]
  },
  {
   "cell_type": "markdown",
   "metadata": {},
   "source": [
    "## p.8~10"
   ]
  },
  {
   "cell_type": "code",
   "execution_count": 2,
   "metadata": {
    "ExecuteTime": {
     "end_time": "2019-04-08T09:59:38.537514Z",
     "start_time": "2019-04-08T09:59:38.447Z"
    }
   },
   "outputs": [],
   "source": [
    "dat <- read.csv(\"datPR1964.csv\") \n",
    "\n",
    "dat$id <- factor(dat$id)\n",
    "dat$age <- factor(dat$age)\n",
    "dat$sex <- factor(dat$sex)\n",
    "np <- dim(datR)[1]\n",
    "n <- length(levels(dat$id)) \n",
    "p<-length(levels(dat$age))\n",
    "q <- length(levels(dat$sex))\n",
    "\n",
    "bary <- mean(dat$dis)\n",
    "baryp <- rep(by(dat$dis, dat$age, mean), n)\n",
    "baryn <- rep(by(dat$dis, dat$id, mean), rep(4, n)) \n",
    "baryq<-rep(by(dat$dis,dat$sex,mean),summary(dat$sex))\n",
    "\n",
    "barypq <- NULL\n",
    "for(kk in 1:q){\n",
    "    dattemp <- dat[dat$sex==levels(dat$sex)[kk],]\n",
    "    barypq <- c(barypq, rep(by(dattemp$dis,dattemp$age,mean),dim(dattemp)[1]/p))\n",
    "}\n",
    "\n",
    "s2a <- sum((baryq -bary)^2)\n",
    "s2b <- sum((baryp -bary)^2)\n",
    "s2g <- sum((barypq -baryq -baryp +bary)^2)\n",
    "s2d <- sum((baryn -baryq)^2)\n",
    "s2e <- sum((dat$dis -barypq -baryn +baryq)^2)\n",
    "s2t <- (n*p-1)*var(dat$dis) \n",
    "tils2a<-s2a/(q-1)\n",
    "tils2b <- s2b/(p-1)\n",
    "tils2g <- s2g/((q-1)*(p-1))\n",
    "tils2d <- s2d/(n-q)\n",
    "tils2e <- s2e/((p-1)*(n-1))\n",
    "\n",
    "c(q-1, s2a, tils2a, tils2a/tils2d)\n",
    "c(p-1, s2b, tils2b, tils2b/tils2e)\n",
    "c((q-1)*(p-1), s2g, tils2g, tils2g/tils2e)\n",
    "c(n-q, s2d, tils2d, tils2d/tils2e)\n",
    "c((n-q)*(p-1), s2e, tils2e) c(n*p-1,s2t)\n",
    "\n",
    "1-pf(tils2a/tils2d, q-1, n-q)\n",
    "1-pf(tils2b/tils2e, p-1, (n-q)*(p-1))\n",
    "1-pf(tils2g/tils2e, (q-1)*(p-1), (n-q)*(p-1))\n",
    "1-pf(tils2d/tils2e, n-q, (n-q)*(p-1))"
   ]
  },
  {
   "cell_type": "markdown",
   "metadata": {},
   "source": [
    "## p.14~15"
   ]
  },
  {
   "cell_type": "code",
   "execution_count": 3,
   "metadata": {
    "ExecuteTime": {
     "end_time": "2019-04-08T09:59:55.599264Z",
     "start_time": "2019-04-08T09:59:55.580Z"
    }
   },
   "outputs": [],
   "source": [
    "dat <- read.csv(\"datPR1964.csv\")\n",
    "\n",
    "datR<-dat[dat$sex==\"F\",]\n",
    "datR$id <- factor(datR$id)\n",
    "datR$age <- factor(datR$age)\n",
    "n <- length(levels(datR$id))\n",
    "p <- length(levels(datR$age))\n",
    "m <- n-1 \n",
    "nX<-cbind(rep(1,p),c(-3,-1,1,3))\n",
    "q <- dim(nX)[2]\n",
    "\n",
    "daty <- NULL\n",
    "for(ii in 1:n){\n",
    "    ind <- datR$id==levels(factor(datR$id))[ii]\n",
    "    daty <- rbind(daty, datR[ind,]$dis)\n",
    "}\n",
    "bary <- apply(daty, 2, mean)\n",
    "mS <- var(daty)\n",
    "iS <- solve(mS) XiSX<-t(nX)%*%iS%*%nX\n",
    "XiSX<-t(nX)%*%iS%*%nX\n",
    "hvtheta<-solve(XiSX)%*%t(nX)%*%iS%*%bary\n",
    "hvar <- (m-1)/(m-(p-q)-1) * m/(m-(p-q)) * 1/n * solve(XiSX)\n",
    "#推定値 \n",
    "cbind(hvtheta, diag(hvar))\n",
    "\n",
    "#切片の検定\n",
    "D <- matrix( c(1, 0), 2, 1)\n",
    "d <- dim(D)[2]\n",
    "T2 <- m*t(bary) %*% (iS-iS%*%nX%*%solve(XiSX)%*%t(nX)%*%iS) %*% bary\n",
    "R <- 1/n+1/m*T2 \n",
    "Se<-m*t(D)%*%solve(XiSX)%*%D\n",
    "Sh <- 1/R *(t(D)%*%hvtheta) %*% t(t(D)%*%hvtheta)\n",
    "Lam <- det(Se)/det(Se+Sh)\n",
    "TD <- (m-(p-q)-d+1)/d * (1-Lam)/Lam\n",
    "TD\n",
    "1-pf(TD, d, m-(p-q)-d+1)\n",
    "\n",
    "#傾きの検定 \n",
    "D <- matrix( c(0, 1), 2, 1)\n",
    "d <- dim(D)[2]\n",
    "T2 <- m*t(bary) %*% (iS-iS%*%nX%*%solve(XiSX)%*%t(nX)%*%iS) %*% bary \n",
    "R<-1/n+1/m*T2\n",
    "Se <- m*t(D)%*%solve(XiSX)%*%D\n",
    "Sh <- 1/R *(t(D)%*%hvtheta) %*% t(t(D)%*%hvtheta)\n",
    "Lam <- det(Se)/det(Se+Sh)\n",
    "TD <- (m-(p-q)-d+1)/d * (1-Lam)/Lam \n",
    "TD\n",
    "1-pf(TD, d, m-(p-q)-d+1)"
   ]
  },
  {
   "cell_type": "markdown",
   "metadata": {},
   "source": [
    "## p.17~19"
   ]
  },
  {
   "cell_type": "code",
   "execution_count": 4,
   "metadata": {
    "ExecuteTime": {
     "end_time": "2019-04-08T10:00:06.999277Z",
     "start_time": "2019-04-08T10:00:06.982Z"
    }
   },
   "outputs": [],
   "source": [
    "dat <- read.csv(\"datPR1964.csv\")\n",
    "dat$sex <- factor(dat$sex)\n",
    "dat$id <- factor(dat$id)\n",
    "dat$age <- factor(dat$age)\n",
    "\n",
    "k<-length(levels(dat$sex))\n",
    "n <- length(levels(dat$id))\n",
    "p <- length(levels(dat$age))\n",
    "m <- n-k\n",
    "nX <- cbind(rep(1, p), c(-3,-1,1,3), c(1,-1,-1,1))\n",
    "q <- dim(nX)[2]\n",
    "\n",
    "nis <- NULL\n",
    "bary <- NULL\n",
    "mS <- matrix(0,p,p)\n",
    "for(ii in 1:k){\n",
    "    daty <- NULL\n",
    "    datR <- dat[dat$sex==levels(dat$sex)[ii],]\n",
    "    datR$id <- factor(datR$id)\n",
    "    ni <- length(levels(datR$id))\n",
    "    for(jj in 1:ni){\n",
    "        ind <- datR$id==levels(factor(datR$id))[jj] \n",
    "        daty<-rbind(daty,datR[ind,]$dis)\n",
    "    }\n",
    "    nis<-c(nis,ni)\n",
    "    bary <- cbind(bary, apply(daty, 2, mean))\n",
    "    mS <- mS + (ni-1)*var(daty)\n",
    "}\n",
    "mS <- 1/(n-k)*mS iS<-solve(mS)\n",
    "iS <- solve(mS)\n",
    "XiSX <- t(nX) %*% iS %*% nX\n",
    "\n",
    "tempsum <- NULL\n",
    "hTheta <- NULL\n",
    "for(ii in 1:k){\n",
    "    ni<-nis[ii]\n",
    "    hvtheta <- solve(XiSX) %*% t(nX) %*% iS %*% bary[,ii]\n",
    "    hvar <- (m-1)/(m-(p-q)-1) * m/(m-(p-q)) * 1/ni * solve(XiSX)\n",
    "    #推定値 \n",
    "    tempsum <- rbind(tempsum, cbind(hvtheta, diag(hvar)))\n",
    "    hTheta <- rbind(hTheta, t(hvtheta))\n",
    "}\n",
    "tempsum\n",
    "\n",
    "TDs <- NULL\n",
    "Ps <- NULL\n",
    "for(kk in 1:k){\n",
    "    vc<-as.matrix(numeric(k))\n",
    "    vc[kk] <- 1\n",
    "    for(qq in 1:q){\n",
    "        D <- as.matrix(numeric(q))\n",
    "        D[qq] <- 1 \n",
    "        d<-dim(D)[2]\n",
    "        T2 <- m*t(bary) %*% (iS-iS%*%nX%*%solve(XiSX)%*%t(nX)%*%iS) %*% bary\n",
    "        R <- diag(1/nis)+1/m*T2\n",
    "        Se <- m*t(D)%*%solve(XiSX)%*%D\n",
    "        Sh <- 1/(t(vc)%*%R%*%vc) *(t(vc)%*%hTheta%*%D) %*% t(t(vc)%*% hTheta%*%D)\n",
    "        Lam <- det(Se)/det(Se+Sh) \n",
    "        TD<-(m-(p-q)-d+1)/d*(1-Lam)/Lam\n",
    "        TDs <- c(TDs, TD)\n",
    "        Ps <- c(Ps, 1-pf(TD, d, m-(p-q)-d+1))\n",
    "    }\n",
    "}\n",
    "TDs\n",
    "Ps"
   ]
  },
  {
   "cell_type": "markdown",
   "metadata": {},
   "source": [
    "## p.20~21"
   ]
  },
  {
   "cell_type": "code",
   "execution_count": 6,
   "metadata": {
    "ExecuteTime": {
     "end_time": "2019-04-08T10:00:35.790726Z",
     "start_time": "2019-04-08T10:00:35.771Z"
    }
   },
   "outputs": [],
   "source": [
    "library(nlme) \n",
    "dat<-read.csv(\"datPR1964.csv\")\n",
    "dat$sex<-factor(dat$sex)\n",
    "dat$id <- factor(dat$id)\n",
    "\n",
    "#データの調整 \n",
    "temp <- groupedData(dis~age|id, data=dat)\n",
    "\n",
    "#線形混合モデルで分析 \n",
    "result <- lme(dis~age+sex+age:sex, data=temp, random=~age, method=\"ML\")\n",
    "\n",
    "summary(result)"
   ]
  }
 ],
 "metadata": {
  "hide_input": false,
  "kernelspec": {
   "display_name": "R",
   "language": "R",
   "name": "ir"
  },
  "language_info": {
   "codemirror_mode": "r",
   "file_extension": ".r",
   "mimetype": "text/x-r-source",
   "name": "R",
   "pygments_lexer": "r",
   "version": "3.5.1"
  },
  "toc": {
   "base_numbering": 1,
   "nav_menu": {},
   "number_sections": false,
   "sideBar": true,
   "skip_h1_title": false,
   "title_cell": "Table of Contents",
   "title_sidebar": "Contents",
   "toc_cell": true,
   "toc_position": {
    "height": "calc(100% - 180px)",
    "left": "10px",
    "top": "150px",
    "width": "247.11956787109375px"
   },
   "toc_section_display": true,
   "toc_window_display": true
  }
 },
 "nbformat": 4,
 "nbformat_minor": 2
}
