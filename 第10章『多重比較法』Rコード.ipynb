{
 "cells": [
  {
   "cell_type": "markdown",
   "metadata": {
    "toc": true
   },
   "source": [
    "<h1>Table of Contents<span class=\"tocSkip\"></span></h1>\n",
    "<div class=\"toc\"><ul class=\"toc-item\"><li><span><a href=\"#第10章『多重比較法』\" data-toc-modified-id=\"第10章『多重比較法』-1\">第10章『多重比較法』</a></span><ul class=\"toc-item\"><li><span><a href=\"#p.7\" data-toc-modified-id=\"p.7-1.1\">p.7</a></span></li><li><span><a href=\"#p.16~17\" data-toc-modified-id=\"p.16~17-1.2\">p.16~17</a></span></li></ul></li></ul></div>"
   ]
  },
  {
   "cell_type": "markdown",
   "metadata": {},
   "source": [
    "# 第10章『多重比較法』"
   ]
  },
  {
   "cell_type": "markdown",
   "metadata": {},
   "source": [
    "## p.7"
   ]
  },
  {
   "cell_type": "code",
   "execution_count": 1,
   "metadata": {
    "ExecuteTime": {
     "end_time": "2019-04-08T09:51:22.751201Z",
     "start_time": "2019-04-08T09:51:21.780Z"
    }
   },
   "outputs": [
    {
     "name": "stderr",
     "output_type": "stream",
     "text": [
      "Loading required package: mvtnorm\n",
      "Loading required package: survival\n",
      "Loading required package: TH.data\n",
      "Loading required package: MASS\n",
      "\n",
      "Attaching package: ‘TH.data’\n",
      "\n",
      "The following object is masked from ‘package:MASS’:\n",
      "\n",
      "    geyser\n",
      "\n"
     ]
    }
   ],
   "source": [
    "# install.packages(\"multcomp\", dependencies=T)\n",
    "library(multcomp) \n",
    "\n",
    "#simtest(X1~X2, data=data, type=\"Dunnett\")\n",
    "#simtest(X1~X2, data=data, type=\"Turkey\")"
   ]
  },
  {
   "cell_type": "markdown",
   "metadata": {},
   "source": [
    "## p.16~17"
   ]
  },
  {
   "cell_type": "code",
   "execution_count": 2,
   "metadata": {
    "ExecuteTime": {
     "end_time": "2019-04-08T09:51:54.202712Z",
     "start_time": "2019-04-08T09:51:54.156Z"
    }
   },
   "outputs": [
    {
     "data": {
      "text/html": [
       "<table>\n",
       "<thead><tr><th></th><th scope=col>fit</th><th scope=col>lwr</th><th scope=col>upr</th></tr></thead>\n",
       "<tbody>\n",
       "\t<tr><th scope=row>1</th><td>1.8696  </td><td>1.747537</td><td>1.991663</td></tr>\n",
       "</tbody>\n",
       "</table>\n"
      ],
      "text/latex": [
       "\\begin{tabular}{r|lll}\n",
       "  & fit & lwr & upr\\\\\n",
       "\\hline\n",
       "\t1 & 1.8696   & 1.747537 & 1.991663\\\\\n",
       "\\end{tabular}\n"
      ],
      "text/markdown": [
       "\n",
       "| <!--/--> | fit | lwr | upr | \n",
       "|---|\n",
       "| 1 | 1.8696   | 1.747537 | 1.991663 | \n",
       "\n",
       "\n"
      ],
      "text/plain": [
       "  fit    lwr      upr     \n",
       "1 1.8696 1.747537 1.991663"
      ]
     },
     "metadata": {},
     "output_type": "display_data"
    }
   ],
   "source": [
    "time <- c(2, 4, 6, 8, 10)\n",
    "y <- c(1.922, 1.443, 1.065, 0.703, 0.369)\n",
    "data <- data.frame(cbind(y, time))\n",
    "result <- lm(y~time, data=data)\n",
    "predict(result, data.frame(time=2), interval=\"confidence\", leevel=0.95)"
   ]
  }
 ],
 "metadata": {
  "hide_input": false,
  "kernelspec": {
   "display_name": "R",
   "language": "R",
   "name": "ir"
  },
  "language_info": {
   "codemirror_mode": "r",
   "file_extension": ".r",
   "mimetype": "text/x-r-source",
   "name": "R",
   "pygments_lexer": "r",
   "version": "3.5.1"
  },
  "toc": {
   "base_numbering": 1,
   "nav_menu": {},
   "number_sections": false,
   "sideBar": true,
   "skip_h1_title": false,
   "title_cell": "Table of Contents",
   "title_sidebar": "Contents",
   "toc_cell": true,
   "toc_position": {},
   "toc_section_display": true,
   "toc_window_display": true
  }
 },
 "nbformat": 4,
 "nbformat_minor": 2
}
